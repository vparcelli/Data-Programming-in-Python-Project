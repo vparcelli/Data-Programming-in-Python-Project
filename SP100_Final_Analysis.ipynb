{
 "cells": [
  {
   "cell_type": "markdown",
   "metadata": {},
   "source": [
    "# **S&P 100 Portfolio Analysis**\n",
    "### Conor Hanley,  Zach McDaniel, Greg Nebel, Vincent Parcelli, Jack Wells\n",
    "\n",
    "## **Goal**\n",
    "### This code can be used to optimize a portfolio of companies within the S&P 100 through Sharpe Ratio maximization. Additionally, we will use an Environmental, Social, and Governance (ESG) filter to select only the most sustainably conscious companies to invest in. ESG is a widely debated metric for use in equity valuation, but investors have become increasingly interested in corporate sustainability. This code evaluates the performance of both a sustainable portfolio and a portfolio with less sustainable companies.  \n",
    "\n",
    "## **Questions**\n",
    "### - How can we use the Sharpe Ratio and sustainability scores to construct an optimized portfolio of the largest 100 public companies?\n",
    "### - Will a portfolio of companies with the best ESG scores outperform a portfolio with lower scores? \n",
    "### - How does the performance of the most sustainable portfolio compare to the performance of the entire S&P 100?\n",
    "### - How does the optimized sustainable portfolio’s performance compare to a random portfolio of securities selected from the S&P 100? "
   ]
  },
  {
   "cell_type": "markdown",
   "metadata": {},
   "source": [
    "## Importing Packages"
   ]
  },
  {
   "cell_type": "code",
   "execution_count": 1,
   "metadata": {},
   "outputs": [],
   "source": [
    "import numpy as np\n",
    "import pandas as pd\n",
    "import yfinance as yf\n",
    "import random\n",
    "import requests\n",
    "from pandas_datareader import data\n",
    "from datetime import datetime\n",
    "import matplotlib.pyplot as plt\n",
    "plt.style.use('fivethirtyeight')\n",
    "from pypfopt.efficient_frontier import EfficientFrontier\n",
    "from pypfopt import risk_models\n",
    "from pypfopt import expected_returns"
   ]
  },
  {
   "cell_type": "markdown",
   "metadata": {},
   "source": [
    "# Reading in list of S&P 100 tickers"
   ]
  },
  {
   "cell_type": "code",
   "execution_count": 2,
   "metadata": {},
   "outputs": [],
   "source": [
    "#reading in txt file with tickers\n",
    "my_file = open('W_5_Python.txt', 'r')\n",
    "content = my_file.read()\n",
    "#putting tickers into a variable, each ticker is on a new line\n",
    "SP100_tickers = content.split(\"\\n\")\n",
    "my_file.close()\n",
    "\n",
    "#removing empty line at the end and whitespace from\n",
    "SP100_tickers = SP100_tickers[:-1]\n",
    "SP100_tickers = [i.strip(' ') for i in SP100_tickers]"
   ]
  },
  {
   "cell_type": "markdown",
   "metadata": {},
   "source": [
    "### Sample Output"
   ]
  },
  {
   "cell_type": "code",
   "execution_count": 3,
   "metadata": {},
   "outputs": [
    {
     "name": "stdout",
     "output_type": "stream",
     "text": [
      "['MMM', 'ABT', 'ABBV', 'ACN', 'ADBE', 'GOOGL', 'GOOG', 'MO', 'AMZN', 'AXP']\n"
     ]
    }
   ],
   "source": [
    "print(SP100_tickers[:10])"
   ]
  },
  {
   "cell_type": "markdown",
   "metadata": {},
   "source": [
    "# Collecting adjusted close data on S&P 100 "
   ]
  },
  {
   "cell_type": "code",
   "execution_count": 4,
   "metadata": {},
   "outputs": [
    {
     "name": "stdout",
     "output_type": "stream",
     "text": [
      "Wall time: 2min\n"
     ]
    }
   ],
   "source": [
    "%%time\n",
    "#Collecting data from yahoo using pd data reader\n",
    "adj_close_df = data.DataReader(SP100_tickers, 'yahoo', start='2016/11/15', end='2021/11/15')['Adj Close']\n",
    "#converting data to numeric\n",
    "adj_close_df = adj_close_df.apply(pd.to_numeric)"
   ]
  },
  {
   "cell_type": "markdown",
   "metadata": {},
   "source": [
    "### Sample output"
   ]
  },
  {
   "cell_type": "code",
   "execution_count": 5,
   "metadata": {},
   "outputs": [
    {
     "data": {
      "text/html": [
       "<div>\n",
       "<style scoped>\n",
       "    .dataframe tbody tr th:only-of-type {\n",
       "        vertical-align: middle;\n",
       "    }\n",
       "\n",
       "    .dataframe tbody tr th {\n",
       "        vertical-align: top;\n",
       "    }\n",
       "\n",
       "    .dataframe thead th {\n",
       "        text-align: right;\n",
       "    }\n",
       "</style>\n",
       "<table border=\"1\" class=\"dataframe\">\n",
       "  <thead>\n",
       "    <tr style=\"text-align: right;\">\n",
       "      <th>Symbols</th>\n",
       "      <th>MMM</th>\n",
       "      <th>ABT</th>\n",
       "      <th>ABBV</th>\n",
       "      <th>ACN</th>\n",
       "      <th>ADBE</th>\n",
       "      <th>GOOGL</th>\n",
       "      <th>GOOG</th>\n",
       "      <th>MO</th>\n",
       "      <th>AMZN</th>\n",
       "      <th>AXP</th>\n",
       "      <th>...</th>\n",
       "      <th>UNP</th>\n",
       "      <th>UPS</th>\n",
       "      <th>UNH</th>\n",
       "      <th>B</th>\n",
       "      <th>VZ</th>\n",
       "      <th>V</th>\n",
       "      <th>WBA</th>\n",
       "      <th>WMT</th>\n",
       "      <th>DIS</th>\n",
       "      <th>WFC</th>\n",
       "    </tr>\n",
       "    <tr>\n",
       "      <th>Date</th>\n",
       "      <th></th>\n",
       "      <th></th>\n",
       "      <th></th>\n",
       "      <th></th>\n",
       "      <th></th>\n",
       "      <th></th>\n",
       "      <th></th>\n",
       "      <th></th>\n",
       "      <th></th>\n",
       "      <th></th>\n",
       "      <th></th>\n",
       "      <th></th>\n",
       "      <th></th>\n",
       "      <th></th>\n",
       "      <th></th>\n",
       "      <th></th>\n",
       "      <th></th>\n",
       "      <th></th>\n",
       "      <th></th>\n",
       "      <th></th>\n",
       "      <th></th>\n",
       "    </tr>\n",
       "  </thead>\n",
       "  <tbody>\n",
       "    <tr>\n",
       "      <th>2016-11-15</th>\n",
       "      <td>148.963608</td>\n",
       "      <td>36.437229</td>\n",
       "      <td>49.962421</td>\n",
       "      <td>107.223312</td>\n",
       "      <td>103.660004</td>\n",
       "      <td>775.159973</td>\n",
       "      <td>758.489990</td>\n",
       "      <td>45.618465</td>\n",
       "      <td>743.239990</td>\n",
       "      <td>67.282547</td>\n",
       "      <td>...</td>\n",
       "      <td>89.058685</td>\n",
       "      <td>97.320107</td>\n",
       "      <td>140.606827</td>\n",
       "      <td>41.520954</td>\n",
       "      <td>37.923485</td>\n",
       "      <td>75.909088</td>\n",
       "      <td>72.713676</td>\n",
       "      <td>63.999428</td>\n",
       "      <td>92.843964</td>\n",
       "      <td>45.306602</td>\n",
       "    </tr>\n",
       "    <tr>\n",
       "      <th>2016-11-16</th>\n",
       "      <td>147.999893</td>\n",
       "      <td>36.565376</td>\n",
       "      <td>48.905483</td>\n",
       "      <td>108.452797</td>\n",
       "      <td>104.080002</td>\n",
       "      <td>779.979980</td>\n",
       "      <td>764.479980</td>\n",
       "      <td>46.245804</td>\n",
       "      <td>746.489990</td>\n",
       "      <td>66.549088</td>\n",
       "      <td>...</td>\n",
       "      <td>88.070251</td>\n",
       "      <td>97.001968</td>\n",
       "      <td>139.932571</td>\n",
       "      <td>41.483360</td>\n",
       "      <td>38.371807</td>\n",
       "      <td>77.530769</td>\n",
       "      <td>72.635124</td>\n",
       "      <td>63.972546</td>\n",
       "      <td>94.193405</td>\n",
       "      <td>44.522640</td>\n",
       "    </tr>\n",
       "    <tr>\n",
       "      <th>2016-11-17</th>\n",
       "      <td>148.653809</td>\n",
       "      <td>36.968090</td>\n",
       "      <td>49.032642</td>\n",
       "      <td>109.423431</td>\n",
       "      <td>105.809998</td>\n",
       "      <td>786.159973</td>\n",
       "      <td>771.229980</td>\n",
       "      <td>46.356510</td>\n",
       "      <td>756.400024</td>\n",
       "      <td>66.641930</td>\n",
       "      <td>...</td>\n",
       "      <td>88.789108</td>\n",
       "      <td>97.586678</td>\n",
       "      <td>139.258270</td>\n",
       "      <td>41.239017</td>\n",
       "      <td>38.299759</td>\n",
       "      <td>78.489265</td>\n",
       "      <td>73.333603</td>\n",
       "      <td>62.001144</td>\n",
       "      <td>94.430969</td>\n",
       "      <td>45.220451</td>\n",
       "    </tr>\n",
       "    <tr>\n",
       "      <th>2016-11-18</th>\n",
       "      <td>148.817322</td>\n",
       "      <td>36.464691</td>\n",
       "      <td>48.094910</td>\n",
       "      <td>109.478897</td>\n",
       "      <td>105.019997</td>\n",
       "      <td>775.969971</td>\n",
       "      <td>760.539978</td>\n",
       "      <td>46.326988</td>\n",
       "      <td>760.159973</td>\n",
       "      <td>65.917763</td>\n",
       "      <td>...</td>\n",
       "      <td>89.705696</td>\n",
       "      <td>98.102577</td>\n",
       "      <td>138.039047</td>\n",
       "      <td>42.207016</td>\n",
       "      <td>38.483891</td>\n",
       "      <td>78.247200</td>\n",
       "      <td>72.704948</td>\n",
       "      <td>61.418667</td>\n",
       "      <td>93.357132</td>\n",
       "      <td>45.504757</td>\n",
       "    </tr>\n",
       "    <tr>\n",
       "      <th>2016-11-21</th>\n",
       "      <td>147.578278</td>\n",
       "      <td>36.391460</td>\n",
       "      <td>48.015427</td>\n",
       "      <td>110.634415</td>\n",
       "      <td>105.650002</td>\n",
       "      <td>784.799988</td>\n",
       "      <td>769.200012</td>\n",
       "      <td>47.005981</td>\n",
       "      <td>780.000000</td>\n",
       "      <td>66.419098</td>\n",
       "      <td>...</td>\n",
       "      <td>90.532379</td>\n",
       "      <td>98.627121</td>\n",
       "      <td>138.925766</td>\n",
       "      <td>42.998753</td>\n",
       "      <td>38.676025</td>\n",
       "      <td>79.089516</td>\n",
       "      <td>73.709053</td>\n",
       "      <td>62.162430</td>\n",
       "      <td>92.777458</td>\n",
       "      <td>44.901691</td>\n",
       "    </tr>\n",
       "  </tbody>\n",
       "</table>\n",
       "<p>5 rows × 101 columns</p>\n",
       "</div>"
      ],
      "text/plain": [
       "Symbols            MMM        ABT       ABBV         ACN        ADBE  \\\n",
       "Date                                                                   \n",
       "2016-11-15  148.963608  36.437229  49.962421  107.223312  103.660004   \n",
       "2016-11-16  147.999893  36.565376  48.905483  108.452797  104.080002   \n",
       "2016-11-17  148.653809  36.968090  49.032642  109.423431  105.809998   \n",
       "2016-11-18  148.817322  36.464691  48.094910  109.478897  105.019997   \n",
       "2016-11-21  147.578278  36.391460  48.015427  110.634415  105.650002   \n",
       "\n",
       "Symbols          GOOGL        GOOG         MO        AMZN        AXP  ...  \\\n",
       "Date                                                                  ...   \n",
       "2016-11-15  775.159973  758.489990  45.618465  743.239990  67.282547  ...   \n",
       "2016-11-16  779.979980  764.479980  46.245804  746.489990  66.549088  ...   \n",
       "2016-11-17  786.159973  771.229980  46.356510  756.400024  66.641930  ...   \n",
       "2016-11-18  775.969971  760.539978  46.326988  760.159973  65.917763  ...   \n",
       "2016-11-21  784.799988  769.200012  47.005981  780.000000  66.419098  ...   \n",
       "\n",
       "Symbols           UNP        UPS         UNH          B         VZ          V  \\\n",
       "Date                                                                            \n",
       "2016-11-15  89.058685  97.320107  140.606827  41.520954  37.923485  75.909088   \n",
       "2016-11-16  88.070251  97.001968  139.932571  41.483360  38.371807  77.530769   \n",
       "2016-11-17  88.789108  97.586678  139.258270  41.239017  38.299759  78.489265   \n",
       "2016-11-18  89.705696  98.102577  138.039047  42.207016  38.483891  78.247200   \n",
       "2016-11-21  90.532379  98.627121  138.925766  42.998753  38.676025  79.089516   \n",
       "\n",
       "Symbols           WBA        WMT        DIS        WFC  \n",
       "Date                                                    \n",
       "2016-11-15  72.713676  63.999428  92.843964  45.306602  \n",
       "2016-11-16  72.635124  63.972546  94.193405  44.522640  \n",
       "2016-11-17  73.333603  62.001144  94.430969  45.220451  \n",
       "2016-11-18  72.704948  61.418667  93.357132  45.504757  \n",
       "2016-11-21  73.709053  62.162430  92.777458  44.901691  \n",
       "\n",
       "[5 rows x 101 columns]"
      ]
     },
     "execution_count": 5,
     "metadata": {},
     "output_type": "execute_result"
    }
   ],
   "source": [
    "adj_close_df.head(5)"
   ]
  },
  {
   "cell_type": "markdown",
   "metadata": {},
   "source": [
    "# Creating an ESG (sustainability) score table for the S&P 100"
   ]
  },
  {
   "cell_type": "markdown",
   "metadata": {},
   "source": [
    "## Collecting ESG score percentiles for the S&P 100 from Yahoo Finance"
   ]
  },
  {
   "cell_type": "code",
   "execution_count": 6,
   "metadata": {},
   "outputs": [
    {
     "name": "stdout",
     "output_type": "stream",
     "text": [
      "Wall time: 7min 50s\n"
     ]
    }
   ],
   "source": [
    "%%time\n",
    "# Intitializing an empty list\n",
    "esg_data = []\n",
    "\n",
    "# Retrieve Yahoo! Finance Sustainability Scores for each ticker\n",
    "for i in SP100_tickers:\n",
    "    # using yf package Ticker method for each ticker in SP100 list\n",
    "    i_y = yf.Ticker(i)\n",
    "    try:\n",
    "        # getting sustianability data for ticker\n",
    "        if i_y.sustainability is not None:\n",
    "            # storing sustainability in a data frame temp\n",
    "            temp = pd.DataFrame(i_y.sustainability)\n",
    "            # adding ticker to the table as a string\n",
    "            temp['company_ticker'] = str(i_y.ticker)\n",
    "            percentile = temp.loc['percentile']\n",
    "            esg_data.append(temp.loc['percentile'])\n",
    "            \n",
    "    except IndexError:\n",
    "        pass"
   ]
  },
  {
   "cell_type": "markdown",
   "metadata": {},
   "source": [
    "## Sample of ESG score percentile table"
   ]
  },
  {
   "cell_type": "code",
   "execution_count": 9,
   "metadata": {},
   "outputs": [
    {
     "data": {
      "text/html": [
       "<div>\n",
       "<style scoped>\n",
       "    .dataframe tbody tr th:only-of-type {\n",
       "        vertical-align: middle;\n",
       "    }\n",
       "\n",
       "    .dataframe tbody tr th {\n",
       "        vertical-align: top;\n",
       "    }\n",
       "\n",
       "    .dataframe thead th {\n",
       "        text-align: right;\n",
       "    }\n",
       "</style>\n",
       "<table border=\"1\" class=\"dataframe\">\n",
       "  <thead>\n",
       "    <tr style=\"text-align: right;\">\n",
       "      <th></th>\n",
       "      <th>Value</th>\n",
       "      <th>company_ticker</th>\n",
       "    </tr>\n",
       "  </thead>\n",
       "  <tbody>\n",
       "    <tr>\n",
       "      <th>percentile</th>\n",
       "      <td>75.51</td>\n",
       "      <td>MMM</td>\n",
       "    </tr>\n",
       "    <tr>\n",
       "      <th>percentile</th>\n",
       "      <td>44.64</td>\n",
       "      <td>ABT</td>\n",
       "    </tr>\n",
       "    <tr>\n",
       "      <th>percentile</th>\n",
       "      <td>49.74</td>\n",
       "      <td>ABBV</td>\n",
       "    </tr>\n",
       "    <tr>\n",
       "      <th>percentile</th>\n",
       "      <td>3.10</td>\n",
       "      <td>ACN</td>\n",
       "    </tr>\n",
       "    <tr>\n",
       "      <th>percentile</th>\n",
       "      <td>2.49</td>\n",
       "      <td>ADBE</td>\n",
       "    </tr>\n",
       "    <tr>\n",
       "      <th>percentile</th>\n",
       "      <td>32.95</td>\n",
       "      <td>GOOGL</td>\n",
       "    </tr>\n",
       "    <tr>\n",
       "      <th>percentile</th>\n",
       "      <td>38.57</td>\n",
       "      <td>MO</td>\n",
       "    </tr>\n",
       "    <tr>\n",
       "      <th>percentile</th>\n",
       "      <td>62.88</td>\n",
       "      <td>AMZN</td>\n",
       "    </tr>\n",
       "    <tr>\n",
       "      <th>percentile</th>\n",
       "      <td>22.31</td>\n",
       "      <td>AXP</td>\n",
       "    </tr>\n",
       "    <tr>\n",
       "      <th>percentile</th>\n",
       "      <td>49.76</td>\n",
       "      <td>AIG</td>\n",
       "    </tr>\n",
       "  </tbody>\n",
       "</table>\n",
       "</div>"
      ],
      "text/plain": [
       "            Value company_ticker\n",
       "percentile  75.51            MMM\n",
       "percentile  44.64            ABT\n",
       "percentile  49.74           ABBV\n",
       "percentile   3.10            ACN\n",
       "percentile   2.49           ADBE\n",
       "percentile  32.95          GOOGL\n",
       "percentile  38.57             MO\n",
       "percentile  62.88           AMZN\n",
       "percentile  22.31            AXP\n",
       "percentile  49.76            AIG"
      ]
     },
     "execution_count": 9,
     "metadata": {},
     "output_type": "execute_result"
    }
   ],
   "source": [
    "#Converting to df\n",
    "esg_scores = pd.DataFrame(esg_data)\n",
    "#Output\n",
    "esg_scores.head(10)"
   ]
  },
  {
   "cell_type": "markdown",
   "metadata": {},
   "source": [
    "# ESG Portfolio Filter Function"
   ]
  },
  {
   "cell_type": "code",
   "execution_count": 10,
   "metadata": {},
   "outputs": [],
   "source": [
    "# Defining Function\n",
    "def esg_portfolio_filter(data = esg_scores, cutoff = 20):\n",
    "        #Initializing empty list for output\n",
    "        esg_cutoff_tickers = []\n",
    "        #Appending tickers of companies above cutoff\n",
    "        for i in esg_scores['company_ticker'][esg_scores['Value'] > cutoff]:\n",
    "                esg_cutoff_tickers.append(i)\n",
    "        return esg_cutoff_tickers"
   ]
  },
  {
   "cell_type": "markdown",
   "metadata": {},
   "source": [
    "### Testing function output"
   ]
  },
  {
   "cell_type": "code",
   "execution_count": 11,
   "metadata": {},
   "outputs": [
    {
     "data": {
      "text/plain": [
       "['MMM', 'BA', 'CAT', 'CVX', 'COP', 'XOM', 'GD', 'GE', 'KHC', 'SO', 'WFC']"
      ]
     },
     "execution_count": 11,
     "metadata": {},
     "output_type": "execute_result"
    }
   ],
   "source": [
    "portfolio_esg_above_70 = esg_portfolio_filter(esg_scores, 70)\n",
    "portfolio_esg_above_70"
   ]
  },
  {
   "cell_type": "markdown",
   "metadata": {},
   "source": [
    "# Random Portfolio Function"
   ]
  },
  {
   "cell_type": "code",
   "execution_count": 12,
   "metadata": {},
   "outputs": [],
   "source": [
    "## Function for getting random portfolio\n",
    "\n",
    "def randomPort(numCompanies = 10, tickers = SP100_tickers):\n",
    "    randomNums = []\n",
    "    randTicks = []\n",
    "    for i in range(numCompanies):\n",
    "        randomNums.append(random.randint(0,100))\n",
    "    for x in randomNums:\n",
    "        randTicks.append(tickers[x])\n",
    "    return randTicks"
   ]
  },
  {
   "cell_type": "markdown",
   "metadata": {},
   "source": [
    "### Testing function output"
   ]
  },
  {
   "cell_type": "code",
   "execution_count": 13,
   "metadata": {},
   "outputs": [
    {
     "data": {
      "text/plain": [
       "['V', 'PM', 'V', 'AMT', 'CAT', 'JNJ', 'C', 'AVGO', 'CVX', 'AVGO']"
      ]
     },
     "execution_count": 13,
     "metadata": {},
     "output_type": "execute_result"
    }
   ],
   "source": [
    "test = randomPort(10, SP100_tickers)\n",
    "test"
   ]
  },
  {
   "cell_type": "markdown",
   "metadata": {},
   "source": [
    "# Portfolio info table generator function "
   ]
  },
  {
   "cell_type": "code",
   "execution_count": 14,
   "metadata": {},
   "outputs": [],
   "source": [
    "#Function\n",
    "def portfolio_info_table_generator(portfolio, rfr = .0163):\n",
    "\n",
    "    #Initializing an empty sharpe_ratio_table to store sharpe ratio data for each ticker\n",
    "    portfolio_info_table = pd.DataFrame()\n",
    "\n",
    "    #For loop to get needed variables for each ticker into a table\n",
    "    for i in portfolio:\n",
    "        #subsetting data to ticker specfic\n",
    "        temp = adj_close_df[i]\n",
    "        #coerce to data frame\n",
    "        temp = pd.DataFrame(temp)\n",
    "        col = i\n",
    "        #calculating the return for each day\n",
    "        temp['log_ret'] = np.log(temp[\"{}\".format(col)] / temp[\"{}\".format(col)].shift(1))\n",
    "        \n",
    "        #establishing variable for dictionary of company\n",
    "        ticker = temp.columns[0]\n",
    "        avg_return = temp.log_ret.mean()\n",
    "        stdev = temp.log_ret.std()\n",
    "        sharpe_ratio = (avg_return - rfr) / (stdev)\n",
    "\n",
    "        #Putting selected variables into a dictionary\n",
    "        dictionary = {}\n",
    "        dictionary['ticker'] = ticker\n",
    "        dictionary['avg_return'] = avg_return\n",
    "        dictionary['stdev_of_return'] = stdev\n",
    "        dictionary['risk_free_rate'] = rfr\n",
    "        dictionary['sharpe_ratio'] = sharpe_ratio\n",
    "        portfolio_info_table = portfolio_info_table.append(dictionary, ignore_index= True)\n",
    "\n",
    "    return portfolio_info_table"
   ]
  },
  {
   "cell_type": "markdown",
   "metadata": {},
   "source": [
    "## Testing Function"
   ]
  },
  {
   "cell_type": "code",
   "execution_count": 15,
   "metadata": {},
   "outputs": [
    {
     "data": {
      "text/html": [
       "<div>\n",
       "<style scoped>\n",
       "    .dataframe tbody tr th:only-of-type {\n",
       "        vertical-align: middle;\n",
       "    }\n",
       "\n",
       "    .dataframe tbody tr th {\n",
       "        vertical-align: top;\n",
       "    }\n",
       "\n",
       "    .dataframe thead th {\n",
       "        text-align: right;\n",
       "    }\n",
       "</style>\n",
       "<table border=\"1\" class=\"dataframe\">\n",
       "  <thead>\n",
       "    <tr style=\"text-align: right;\">\n",
       "      <th></th>\n",
       "      <th>avg_return</th>\n",
       "      <th>risk_free_rate</th>\n",
       "      <th>sharpe_ratio</th>\n",
       "      <th>stdev_of_return</th>\n",
       "      <th>ticker</th>\n",
       "    </tr>\n",
       "  </thead>\n",
       "  <tbody>\n",
       "    <tr>\n",
       "      <th>0</th>\n",
       "      <td>0.000158</td>\n",
       "      <td>0.0163</td>\n",
       "      <td>-1.027219</td>\n",
       "      <td>0.015714</td>\n",
       "      <td>MMM</td>\n",
       "    </tr>\n",
       "    <tr>\n",
       "      <th>1</th>\n",
       "      <td>0.001008</td>\n",
       "      <td>0.0163</td>\n",
       "      <td>-0.977182</td>\n",
       "      <td>0.015649</td>\n",
       "      <td>ABT</td>\n",
       "    </tr>\n",
       "    <tr>\n",
       "      <th>2</th>\n",
       "      <td>0.000675</td>\n",
       "      <td>0.0163</td>\n",
       "      <td>-0.877122</td>\n",
       "      <td>0.017814</td>\n",
       "      <td>ABBV</td>\n",
       "    </tr>\n",
       "    <tr>\n",
       "      <th>3</th>\n",
       "      <td>0.000981</td>\n",
       "      <td>0.0163</td>\n",
       "      <td>-0.985392</td>\n",
       "      <td>0.015546</td>\n",
       "      <td>ACN</td>\n",
       "    </tr>\n",
       "    <tr>\n",
       "      <th>4</th>\n",
       "      <td>0.001471</td>\n",
       "      <td>0.0163</td>\n",
       "      <td>-0.734200</td>\n",
       "      <td>0.020197</td>\n",
       "      <td>ADBE</td>\n",
       "    </tr>\n",
       "  </tbody>\n",
       "</table>\n",
       "</div>"
      ],
      "text/plain": [
       "   avg_return  risk_free_rate  sharpe_ratio  stdev_of_return ticker\n",
       "0    0.000158          0.0163     -1.027219         0.015714    MMM\n",
       "1    0.001008          0.0163     -0.977182         0.015649    ABT\n",
       "2    0.000675          0.0163     -0.877122         0.017814   ABBV\n",
       "3    0.000981          0.0163     -0.985392         0.015546    ACN\n",
       "4    0.001471          0.0163     -0.734200         0.020197   ADBE"
      ]
     },
     "execution_count": 15,
     "metadata": {},
     "output_type": "execute_result"
    }
   ],
   "source": [
    "# Making a portfolio of first 10 tickers in SP100 list\n",
    "SP100_portfolio = SP100_tickers\n",
    "rfr = .0163\n",
    "# Testing Function\n",
    "SP100_table = portfolio_info_table_generator(SP100_portfolio, rfr)\n",
    "#ouptut\n",
    "SP100_table.head()"
   ]
  },
  {
   "cell_type": "markdown",
   "metadata": {},
   "source": [
    "## Visualizing Portfolio"
   ]
  },
  {
   "cell_type": "markdown",
   "metadata": {},
   "source": [
    "### Portfolio return plot function"
   ]
  },
  {
   "cell_type": "code",
   "execution_count": 16,
   "metadata": {},
   "outputs": [],
   "source": [
    "#Bar plot of each avg return of the random stocks chosen from function\n",
    "def plot_returns(portfolio):\n",
    "    avgRetRandom = {}\n",
    "    avgRetRandom['Stocks'] = portfolio\n",
    "    avgRetRandom['Avg_Returns'] = []\n",
    "    for stock in portfolio:\n",
    "        onlyStock = SP100_table[SP100_table['ticker'] == stock]\n",
    "        avgRetRandom['Avg_Returns'].append(onlyStock.iloc[0]['avg_return'])\n",
    "\n",
    "    randomRetsDF = pd.DataFrame(avgRetRandom)\n",
    "    randomRetsDF = randomRetsDF.set_index('Stocks')\n",
    "\n",
    "    return randomRetsDF.plot(kind = 'bar', title = 'Average Daily Returns for Each Stock in Portfolio', figsize = (15,10))\n"
   ]
  },
  {
   "cell_type": "code",
   "execution_count": 17,
   "metadata": {},
   "outputs": [
    {
     "data": {
      "text/plain": [
       "<AxesSubplot:title={'center':'Average Daily Returns for Each Stock in Portfolio'}, xlabel='Stocks'>"
      ]
     },
     "execution_count": 17,
     "metadata": {},
     "output_type": "execute_result"
    },
    {
     "data": {
      "image/png": "[encoded data removed]",
      "text/plain": [
       "<Figure size 1080x720 with 1 Axes>"
      ]
     },
     "metadata": {},
     "output_type": "display_data"
    }
   ],
   "source": [
    "plot_returns(test)"
   ]
  },
  {
   "cell_type": "code",
   "execution_count": 18,
   "metadata": {},
   "outputs": [
    {
     "data": {
      "text/plain": [
       "<AxesSubplot:title={'center':'Average Daily Returns for Each Stock in Portfolio'}, xlabel='Stocks'>"
      ]
     },
     "execution_count": 18,
     "metadata": {},
     "output_type": "execute_result"
    },
    {
     "data": {
      "image/png": "[encoded data removed]",
      "text/plain": [
       "<Figure size 1080x720 with 1 Axes>"
      ]
     },
     "metadata": {},
     "output_type": "display_data"
    }
   ],
   "source": [
    "plot_returns(portfolio_esg_above_70)"
   ]
  },
  {
   "cell_type": "markdown",
   "metadata": {},
   "source": [
    "# Portfolio comparison function"
   ]
  },
  {
   "cell_type": "code",
   "execution_count": 19,
   "metadata": {},
   "outputs": [],
   "source": [
    "# Defining comparison function\n",
    "def compare_portfolios(portfolio1, portfolio2, rfr = .0163):\n",
    "    portfolio1_SharpeRatio = (portfolio1.avg_return.mean() - rfr) / portfolio1.stdev_of_return.mean()\n",
    "    portfolio2_SharpeRatio = (portfolio2.avg_return.mean() - rfr) / portfolio2.stdev_of_return.mean()\n",
    "    \n",
    "    if portfolio1_SharpeRatio > portfolio2_SharpeRatio:\n",
    "        return print('The first portfolio has a greater sharpe ratio of {} > {}'.format(portfolio1_SharpeRatio, portfolio2_SharpeRatio))\n",
    "    else:\n",
    "        return print('The second portfolio has a greater sharpe ratio of {} > {}'.format(portfolio2_SharpeRatio, portfolio1_SharpeRatio))\n",
    "    "
   ]
  },
  {
   "cell_type": "markdown",
   "metadata": {},
   "source": [
    "## Comparing a random portfolio to esg portfolio"
   ]
  },
  {
   "cell_type": "code",
   "execution_count": 20,
   "metadata": {},
   "outputs": [
    {
     "name": "stdout",
     "output_type": "stream",
     "text": [
      "1) esg portfolio: ['MMM', 'BA', 'CAT', 'CVX', 'COP', 'XOM', 'GD', 'GE', 'KHC', 'SO', 'WFC']\n",
      "2) random portfolio: ['AMGN', 'BK', 'PM', 'NKE', 'BIIB', 'CVX', 'MDT', 'AMZN', 'MMM', 'BRK-B']\n",
      "\n",
      "\n",
      "The first portfolio has a greater sharpe ratio of -0.7707352248415393 > -0.872336544801312\n"
     ]
    }
   ],
   "source": [
    "#Creating randomized portfolio\n",
    "random_portfolio = randomPort()\n",
    "RandomPort_info_table = portfolio_info_table_generator(random_portfolio, rfr = .0163)\n",
    "\n",
    "#Creating a portfolio of first 10 tickers in S&P 100 list\n",
    "esg_portfolio = portfolio_esg_above_70\n",
    "esg_portfolio_info_table = portfolio_info_table_generator(esg_portfolio, rfr = .0163)\n",
    "\n",
    "print('1) esg portfolio: {}'.format(esg_portfolio))\n",
    "print('2) random portfolio: {}'.format(random_portfolio))\n",
    "print('\\n')\n",
    "\n",
    "#Testing function\n",
    "compare_portfolios(esg_portfolio_info_table, RandomPort_info_table, .0163)"
   ]
  },
  {
   "cell_type": "markdown",
   "metadata": {},
   "source": [
    "# Porfolio Optimization"
   ]
  },
  {
   "cell_type": "markdown",
   "metadata": {},
   "source": [
    "## Making ESG filtered portfolio to be optimized"
   ]
  },
  {
   "cell_type": "code",
   "execution_count": 21,
   "metadata": {},
   "outputs": [],
   "source": [
    "#get stock tickers\n",
    "assets = esg_portfolio_filter(data = esg_scores, cutoff = 70)\n",
    "\n",
    "#get portfolio/asset start date\n",
    "StockStartDate = '2013-01-01'\n",
    "\n",
    "#get stocks ending date (today)\n",
    "today = datetime.today().strftime('%Y-%m-%d')\n",
    "\n",
    "#create dataframe to store adjusted close price of the assets\n",
    "df = pd.DataFrame()\n",
    "\n",
    "#store the adjusted close price in the df using a loop\n",
    "for stock in assets:\n",
    "    df[stock] = data.DataReader(stock, data_source='yahoo', start = StockStartDate, end = today)['Adj Close']"
   ]
  },
  {
   "cell_type": "markdown",
   "metadata": {},
   "source": [
    "## Visualizing portfolio adjusted close prices over time"
   ]
  },
  {
   "cell_type": "code",
   "execution_count": 22,
   "metadata": {},
   "outputs": [
    {
     "data": {
      "image/png": "[encoded data removed]",
      "text/plain": [
       "<Figure size 432x288 with 1 Axes>"
      ]
     },
     "metadata": {},
     "output_type": "display_data"
    }
   ],
   "source": [
    "#visually show the asset portfolio\n",
    "title = 'Portoflio Adj. Close Price History'\n",
    "\n",
    "#get stocks\n",
    "my_stocks = df\n",
    "\n",
    "# Create and Plot the Graph\n",
    "for c in my_stocks.columns.values:\n",
    "    plt.plot(my_stocks[c], label = c)\n",
    "    \n",
    "plt.title(title)\n",
    "plt.xlabel('Date', fontsize = 16)\n",
    "plt.ylabel('Adj. Close Price ($)', fontsize = 16)\n",
    "plt.legend(my_stocks.columns.values, loc = 'upper left')\n",
    "plt.show()"
   ]
  },
  {
   "cell_type": "markdown",
   "metadata": {},
   "source": [
    "## Calculating Portfolio Metrics for Optimization"
   ]
  },
  {
   "cell_type": "markdown",
   "metadata": {},
   "source": [
    "### Weights for distribution in portfolio"
   ]
  },
  {
   "cell_type": "code",
   "execution_count": 23,
   "metadata": {},
   "outputs": [
    {
     "data": {
      "text/plain": [
       "array([0.09090909, 0.09090909, 0.09090909, 0.09090909, 0.09090909,\n",
       "       0.09090909, 0.09090909, 0.09090909, 0.09090909, 0.09090909,\n",
       "       0.09090909])"
      ]
     },
     "execution_count": 23,
     "metadata": {},
     "output_type": "execute_result"
    }
   ],
   "source": [
    "#assign equal weights to assets\n",
    "weights = np.full(len(df.columns), 1/len(df.columns))\n",
    "weights"
   ]
  },
  {
   "cell_type": "code",
   "execution_count": 24,
   "metadata": {},
   "outputs": [
    {
     "data": {
      "text/html": [
       "<div>\n",
       "<style scoped>\n",
       "    .dataframe tbody tr th:only-of-type {\n",
       "        vertical-align: middle;\n",
       "    }\n",
       "\n",
       "    .dataframe tbody tr th {\n",
       "        vertical-align: top;\n",
       "    }\n",
       "\n",
       "    .dataframe thead th {\n",
       "        text-align: right;\n",
       "    }\n",
       "</style>\n",
       "<table border=\"1\" class=\"dataframe\">\n",
       "  <thead>\n",
       "    <tr style=\"text-align: right;\">\n",
       "      <th></th>\n",
       "      <th>MMM</th>\n",
       "      <th>BA</th>\n",
       "      <th>CAT</th>\n",
       "      <th>CVX</th>\n",
       "      <th>COP</th>\n",
       "      <th>XOM</th>\n",
       "      <th>GD</th>\n",
       "      <th>GE</th>\n",
       "      <th>KHC</th>\n",
       "      <th>SO</th>\n",
       "      <th>WFC</th>\n",
       "    </tr>\n",
       "    <tr>\n",
       "      <th>Date</th>\n",
       "      <th></th>\n",
       "      <th></th>\n",
       "      <th></th>\n",
       "      <th></th>\n",
       "      <th></th>\n",
       "      <th></th>\n",
       "      <th></th>\n",
       "      <th></th>\n",
       "      <th></th>\n",
       "      <th></th>\n",
       "      <th></th>\n",
       "    </tr>\n",
       "  </thead>\n",
       "  <tbody>\n",
       "    <tr>\n",
       "      <th>2013-01-02</th>\n",
       "      <td>NaN</td>\n",
       "      <td>NaN</td>\n",
       "      <td>NaN</td>\n",
       "      <td>NaN</td>\n",
       "      <td>NaN</td>\n",
       "      <td>NaN</td>\n",
       "      <td>NaN</td>\n",
       "      <td>NaN</td>\n",
       "      <td>NaN</td>\n",
       "      <td>NaN</td>\n",
       "      <td>NaN</td>\n",
       "    </tr>\n",
       "    <tr>\n",
       "      <th>2013-01-03</th>\n",
       "      <td>-0.001160</td>\n",
       "      <td>0.005190</td>\n",
       "      <td>0.009626</td>\n",
       "      <td>-0.004258</td>\n",
       "      <td>-0.000676</td>\n",
       "      <td>-0.001804</td>\n",
       "      <td>0.003932</td>\n",
       "      <td>-0.011246</td>\n",
       "      <td>NaN</td>\n",
       "      <td>-0.000228</td>\n",
       "      <td>-0.008274</td>\n",
       "    </tr>\n",
       "    <tr>\n",
       "      <th>2013-01-04</th>\n",
       "      <td>0.007394</td>\n",
       "      <td>0.002840</td>\n",
       "      <td>0.005508</td>\n",
       "      <td>0.005277</td>\n",
       "      <td>0.011155</td>\n",
       "      <td>0.004630</td>\n",
       "      <td>-0.005875</td>\n",
       "      <td>0.004739</td>\n",
       "      <td>NaN</td>\n",
       "      <td>0.008910</td>\n",
       "      <td>0.005178</td>\n",
       "    </tr>\n",
       "    <tr>\n",
       "      <th>2013-01-07</th>\n",
       "      <td>0.001258</td>\n",
       "      <td>-0.020079</td>\n",
       "      <td>0.003056</td>\n",
       "      <td>-0.006787</td>\n",
       "      <td>-0.011032</td>\n",
       "      <td>-0.011578</td>\n",
       "      <td>0.011116</td>\n",
       "      <td>-0.003301</td>\n",
       "      <td>NaN</td>\n",
       "      <td>-0.017437</td>\n",
       "      <td>-0.004865</td>\n",
       "    </tr>\n",
       "    <tr>\n",
       "      <th>2013-01-08</th>\n",
       "      <td>0.000105</td>\n",
       "      <td>-0.026271</td>\n",
       "      <td>-0.012709</td>\n",
       "      <td>-0.004465</td>\n",
       "      <td>-0.013520</td>\n",
       "      <td>0.006255</td>\n",
       "      <td>-0.020178</td>\n",
       "      <td>-0.010885</td>\n",
       "      <td>NaN</td>\n",
       "      <td>-0.002766</td>\n",
       "      <td>-0.001726</td>\n",
       "    </tr>\n",
       "  </tbody>\n",
       "</table>\n",
       "</div>"
      ],
      "text/plain": [
       "                 MMM        BA       CAT       CVX       COP       XOM  \\\n",
       "Date                                                                     \n",
       "2013-01-02       NaN       NaN       NaN       NaN       NaN       NaN   \n",
       "2013-01-03 -0.001160  0.005190  0.009626 -0.004258 -0.000676 -0.001804   \n",
       "2013-01-04  0.007394  0.002840  0.005508  0.005277  0.011155  0.004630   \n",
       "2013-01-07  0.001258 -0.020079  0.003056 -0.006787 -0.011032 -0.011578   \n",
       "2013-01-08  0.000105 -0.026271 -0.012709 -0.004465 -0.013520  0.006255   \n",
       "\n",
       "                  GD        GE  KHC        SO       WFC  \n",
       "Date                                                     \n",
       "2013-01-02       NaN       NaN  NaN       NaN       NaN  \n",
       "2013-01-03  0.003932 -0.011246  NaN -0.000228 -0.008274  \n",
       "2013-01-04 -0.005875  0.004739  NaN  0.008910  0.005178  \n",
       "2013-01-07  0.011116 -0.003301  NaN -0.017437 -0.004865  \n",
       "2013-01-08 -0.020178 -0.010885  NaN -0.002766 -0.001726  "
      ]
     },
     "execution_count": 24,
     "metadata": {},
     "output_type": "execute_result"
    }
   ],
   "source": [
    "# Get Daily Simple Returns\n",
    "returns = df.pct_change()\n",
    "returns.head()"
   ]
  },
  {
   "cell_type": "code",
   "execution_count": 25,
   "metadata": {},
   "outputs": [
    {
     "data": {
      "text/html": [
       "<div>\n",
       "<style scoped>\n",
       "    .dataframe tbody tr th:only-of-type {\n",
       "        vertical-align: middle;\n",
       "    }\n",
       "\n",
       "    .dataframe tbody tr th {\n",
       "        vertical-align: top;\n",
       "    }\n",
       "\n",
       "    .dataframe thead th {\n",
       "        text-align: right;\n",
       "    }\n",
       "</style>\n",
       "<table border=\"1\" class=\"dataframe\">\n",
       "  <thead>\n",
       "    <tr style=\"text-align: right;\">\n",
       "      <th></th>\n",
       "      <th>MMM</th>\n",
       "      <th>BA</th>\n",
       "      <th>CAT</th>\n",
       "      <th>CVX</th>\n",
       "      <th>COP</th>\n",
       "      <th>XOM</th>\n",
       "      <th>GD</th>\n",
       "      <th>GE</th>\n",
       "      <th>KHC</th>\n",
       "      <th>SO</th>\n",
       "      <th>WFC</th>\n",
       "    </tr>\n",
       "  </thead>\n",
       "  <tbody>\n",
       "    <tr>\n",
       "      <th>MMM</th>\n",
       "      <td>0.045426</td>\n",
       "      <td>0.035525</td>\n",
       "      <td>0.035855</td>\n",
       "      <td>0.030453</td>\n",
       "      <td>0.034075</td>\n",
       "      <td>0.028552</td>\n",
       "      <td>0.028224</td>\n",
       "      <td>0.035205</td>\n",
       "      <td>0.028435</td>\n",
       "      <td>0.016149</td>\n",
       "      <td>0.032903</td>\n",
       "    </tr>\n",
       "    <tr>\n",
       "      <th>BA</th>\n",
       "      <td>0.035525</td>\n",
       "      <td>0.144048</td>\n",
       "      <td>0.052118</td>\n",
       "      <td>0.059549</td>\n",
       "      <td>0.067199</td>\n",
       "      <td>0.052914</td>\n",
       "      <td>0.048133</td>\n",
       "      <td>0.067135</td>\n",
       "      <td>0.036055</td>\n",
       "      <td>0.025843</td>\n",
       "      <td>0.062543</td>\n",
       "    </tr>\n",
       "    <tr>\n",
       "      <th>CAT</th>\n",
       "      <td>0.035855</td>\n",
       "      <td>0.052118</td>\n",
       "      <td>0.077361</td>\n",
       "      <td>0.045684</td>\n",
       "      <td>0.058347</td>\n",
       "      <td>0.042381</td>\n",
       "      <td>0.034346</td>\n",
       "      <td>0.046646</td>\n",
       "      <td>0.029830</td>\n",
       "      <td>0.015423</td>\n",
       "      <td>0.044210</td>\n",
       "    </tr>\n",
       "    <tr>\n",
       "      <th>CVX</th>\n",
       "      <td>0.030453</td>\n",
       "      <td>0.059549</td>\n",
       "      <td>0.045684</td>\n",
       "      <td>0.080981</td>\n",
       "      <td>0.085236</td>\n",
       "      <td>0.060587</td>\n",
       "      <td>0.033502</td>\n",
       "      <td>0.049524</td>\n",
       "      <td>0.034853</td>\n",
       "      <td>0.021031</td>\n",
       "      <td>0.048935</td>\n",
       "    </tr>\n",
       "    <tr>\n",
       "      <th>COP</th>\n",
       "      <td>0.034075</td>\n",
       "      <td>0.067199</td>\n",
       "      <td>0.058347</td>\n",
       "      <td>0.085236</td>\n",
       "      <td>0.136355</td>\n",
       "      <td>0.073467</td>\n",
       "      <td>0.037297</td>\n",
       "      <td>0.059450</td>\n",
       "      <td>0.038975</td>\n",
       "      <td>0.018630</td>\n",
       "      <td>0.058379</td>\n",
       "    </tr>\n",
       "  </tbody>\n",
       "</table>\n",
       "</div>"
      ],
      "text/plain": [
       "          MMM        BA       CAT       CVX       COP       XOM        GD  \\\n",
       "MMM  0.045426  0.035525  0.035855  0.030453  0.034075  0.028552  0.028224   \n",
       "BA   0.035525  0.144048  0.052118  0.059549  0.067199  0.052914  0.048133   \n",
       "CAT  0.035855  0.052118  0.077361  0.045684  0.058347  0.042381  0.034346   \n",
       "CVX  0.030453  0.059549  0.045684  0.080981  0.085236  0.060587  0.033502   \n",
       "COP  0.034075  0.067199  0.058347  0.085236  0.136355  0.073467  0.037297   \n",
       "\n",
       "           GE       KHC        SO       WFC  \n",
       "MMM  0.035205  0.028435  0.016149  0.032903  \n",
       "BA   0.067135  0.036055  0.025843  0.062543  \n",
       "CAT  0.046646  0.029830  0.015423  0.044210  \n",
       "CVX  0.049524  0.034853  0.021031  0.048935  \n",
       "COP  0.059450  0.038975  0.018630  0.058379  "
      ]
     },
     "execution_count": 25,
     "metadata": {},
     "output_type": "execute_result"
    }
   ],
   "source": [
    "# Create and show the annualized covariance matrix\n",
    "cov_matrix_annual = returns.cov() * 252\n",
    "cov_matrix_annual.head()"
   ]
  },
  {
   "cell_type": "code",
   "execution_count": 26,
   "metadata": {},
   "outputs": [
    {
     "data": {
      "text/plain": [
       "0.04400355847476575"
      ]
     },
     "execution_count": 26,
     "metadata": {},
     "output_type": "execute_result"
    }
   ],
   "source": [
    "# Calculate Portfolio Variance\n",
    "port_variance = np.dot(weights.T, np.dot(cov_matrix_annual, weights))\n",
    "port_variance"
   ]
  },
  {
   "cell_type": "code",
   "execution_count": 27,
   "metadata": {},
   "outputs": [
    {
     "data": {
      "text/plain": [
       "0.20977025164394916"
      ]
     },
     "execution_count": 27,
     "metadata": {},
     "output_type": "execute_result"
    }
   ],
   "source": [
    "# Calculate Portfolio Volatility (also known as portfolio standard deviation or portfolio risk)\n",
    "port_volatility = np.sqrt(port_variance)\n",
    "port_volatility"
   ]
  },
  {
   "cell_type": "code",
   "execution_count": 28,
   "metadata": {},
   "outputs": [
    {
     "data": {
      "text/plain": [
       "0.10081833594799539"
      ]
     },
     "execution_count": 28,
     "metadata": {},
     "output_type": "execute_result"
    }
   ],
   "source": [
    "# Calculate the annual portfolio return\n",
    "PortfolioSimpleAnnualReturn = np.sum(returns.mean() * weights) * 252\n",
    "PortfolioSimpleAnnualReturn"
   ]
  },
  {
   "cell_type": "markdown",
   "metadata": {},
   "source": [
    "### Output Metrics"
   ]
  },
  {
   "cell_type": "code",
   "execution_count": 29,
   "metadata": {},
   "outputs": [
    {
     "name": "stdout",
     "output_type": "stream",
     "text": [
      "Expected Annual Return: 10.0%\n",
      "Annual Volatility: 21.0%\n",
      "Annual Variance: 4.0%\n"
     ]
    }
   ],
   "source": [
    "# Show portfolio expected annual return, volatility, and variance\n",
    "percent_var = str(round(port_variance, 2) * 100) + '%'\n",
    "percent_vols = str(round(port_volatility, 2) * 100) + '%'\n",
    "percent_ret = str(round(PortfolioSimpleAnnualReturn, 2) * 100) + '%'\n",
    "\n",
    "print('Expected Annual Return: '+ percent_ret)\n",
    "print('Annual Volatility: '+ percent_vols)\n",
    "print('Annual Variance: '+ percent_var)"
   ]
  },
  {
   "cell_type": "markdown",
   "metadata": {},
   "source": [
    "# Portfolio Optimization "
   ]
  },
  {
   "cell_type": "code",
   "execution_count": 35,
   "metadata": {},
   "outputs": [
    {
     "name": "stdout",
     "output_type": "stream",
     "text": [
      "OrderedDict([('MMM', 0.0), ('BA', 0.0), ('CAT', 0.07676), ('CVX', 0.0), ('COP', 0.0), ('XOM', 0.0), ('GD', 0.70451), ('GE', 0.0), ('KHC', 0.0), ('SO', 0.21873), ('WFC', 0.0)])\n",
      "Expected annual return: 13.6%\n",
      "Annual volatility: 19.2%\n",
      "Sharpe Ratio: 0.60\n"
     ]
    },
    {
     "data": {
      "text/plain": [
       "(0.13585635233824753, 0.1918960642250843, 0.6037453285251017)"
      ]
     },
     "execution_count": 35,
     "metadata": {},
     "output_type": "execute_result"
    }
   ],
   "source": [
    "# Portfolio Optimization\n",
    "\n",
    "# Calculate Expected Returns and the annualized sample covariance matrix of asset returns\n",
    "mu = expected_returns.mean_historical_return(df)\n",
    "S = risk_models.sample_cov(df)\n",
    "\n",
    "# Optimize by maximizing the Sharpe Ratio (maximizing risk adjusted return of a portfolio)\n",
    "ef = EfficientFrontier(mu, S)\n",
    "weights = ef.max_sharpe()\n",
    "cleaned_weights = ef.clean_weights()\n",
    "print(cleaned_weights)\n",
    "ef.portfolio_performance(verbose = True)"
   ]
  },
  {
   "cell_type": "markdown",
   "metadata": {},
   "source": [
    "## Pie chart of portfolio distribution"
   ]
  },
  {
   "cell_type": "code",
   "execution_count": 36,
   "metadata": {},
   "outputs": [
    {
     "data": {
      "image/png": "[encoded data removed]",
      "text/plain": [
       "<Figure size 432x288 with 1 Axes>"
      ]
     },
     "metadata": {},
     "output_type": "display_data"
    }
   ],
   "source": [
    "values = cleaned_weights.values()\n",
    "values_list = list(values)\n",
    "names = cleaned_weights.keys()\n",
    "names_list = list(names)\n",
    "\n",
    "plt.pie(values_list,labels = names_list)\n",
    "plt.show()"
   ]
  },
  {
   "cell_type": "markdown",
   "metadata": {},
   "source": [
    "## Fund allocation per stock in portfolio"
   ]
  },
  {
   "cell_type": "code",
   "execution_count": 31,
   "metadata": {},
   "outputs": [
    {
     "name": "stdout",
     "output_type": "stream",
     "text": [
      "Discrete Allocation:  {'CAT': 376, 'GD': 3505, 'SO': 3392}\n",
      "Cash Remaining: $16.69\n"
     ]
    }
   ],
   "source": [
    "# Get the discrete allocation of shares of stock\n",
    "from pypfopt.discrete_allocation import DiscreteAllocation, get_latest_prices\n",
    "\n",
    "latest_prices = get_latest_prices(df)\n",
    "weights = cleaned_weights\n",
    "da = DiscreteAllocation(weights, latest_prices, total_portfolio_value = 1000000)\n",
    "\n",
    "allocation, leftover = da.lp_portfolio()\n",
    "print('Discrete Allocation: ', allocation)\n",
    "print('Cash Remaining: ${:.2f}'.format(leftover))"
   ]
  },
  {
   "cell_type": "markdown",
   "metadata": {},
   "source": [
    "## Ending Portfolio"
   ]
  },
  {
   "cell_type": "code",
   "execution_count": 37,
   "metadata": {},
   "outputs": [
    {
     "data": {
      "text/html": [
       "<div>\n",
       "<style scoped>\n",
       "    .dataframe tbody tr th:only-of-type {\n",
       "        vertical-align: middle;\n",
       "    }\n",
       "\n",
       "    .dataframe tbody tr th {\n",
       "        vertical-align: top;\n",
       "    }\n",
       "\n",
       "    .dataframe thead th {\n",
       "        text-align: right;\n",
       "    }\n",
       "</style>\n",
       "<table border=\"1\" class=\"dataframe\">\n",
       "  <thead>\n",
       "    <tr style=\"text-align: right;\">\n",
       "      <th></th>\n",
       "      <th>Ticker</th>\n",
       "      <th>Shares</th>\n",
       "      <th>Price</th>\n",
       "      <th>Principal</th>\n",
       "    </tr>\n",
       "  </thead>\n",
       "  <tbody>\n",
       "    <tr>\n",
       "      <th>0</th>\n",
       "      <td>CAT</td>\n",
       "      <td>376</td>\n",
       "      <td>204.29</td>\n",
       "      <td>76813.04</td>\n",
       "    </tr>\n",
       "    <tr>\n",
       "      <th>1</th>\n",
       "      <td>GD</td>\n",
       "      <td>3505</td>\n",
       "      <td>201.00</td>\n",
       "      <td>704505.00</td>\n",
       "    </tr>\n",
       "    <tr>\n",
       "      <th>2</th>\n",
       "      <td>SO</td>\n",
       "      <td>3392</td>\n",
       "      <td>64.46</td>\n",
       "      <td>218665.27</td>\n",
       "    </tr>\n",
       "  </tbody>\n",
       "</table>\n",
       "</div>"
      ],
      "text/plain": [
       "  Ticker  Shares   Price  Principal\n",
       "0    CAT     376  204.29   76813.04\n",
       "1     GD    3505  201.00  704505.00\n",
       "2     SO    3392   64.46  218665.27"
      ]
     },
     "execution_count": 37,
     "metadata": {},
     "output_type": "execute_result"
    }
   ],
   "source": [
    "## Creating end porfolio table\n",
    "Data_items = allocation.items() \n",
    "Data_list = list(Data_items)\n",
    "df1 = pd.DataFrame(Data_list)\n",
    "Data_principal = latest_prices.items()\n",
    "df2 = pd.DataFrame(Data_principal)\n",
    "df3 = pd.merge(df1, df2, on=0)\n",
    "df4 = df3.rename(columns={0: \"Ticker\",'1_x': 'Shares', '1_y': 'Price'})\n",
    "df4['Principal']=df4['Shares'] * df4['Price']\n",
    "decimals = pd.Series([2,2], index=['Price','Principal'])\n",
    "df4.round(decimals)\n"
   ]
  },
  {
   "cell_type": "markdown",
   "metadata": {},
   "source": [
    "# **Conclusions**\n",
    "### We found that the ESG 70+ portfolio performed better than several random portfolios.\n",
    "### After optimizing our ESG rated 70+ portfolio, there was several overall improvements:\n",
    "###  - Assests in portfolio went from 12 to 3\n",
    "### - Final stocks were CAT, GD, and SO\n",
    "###  - Annual Return increased by 3.6%\n",
    "###  - Annual Volatility decreased by 1.8%\n",
    "###  - Final Sharpe Ratio was .60"
   ]
  }
 ],
 "metadata": {
  "interpreter": {
   "hash": "6f968f33b86330effc8a3c860c58e2fa53bfb13071e088a421dad42bde288be6"
  },
  "kernelspec": {
   "display_name": "Python 3.7.6 64-bit ('base': conda)",
   "name": "python3"
  },
  "language_info": {
   "codemirror_mode": {
    "name": "ipython",
    "version": 3
   },
   "file_extension": ".py",
   "mimetype": "text/x-python",
   "name": "python",
   "nbconvert_exporter": "python",
   "pygments_lexer": "ipython3",
   "version": "3.8.8"
  },
  "orig_nbformat": 4
 },
 "nbformat": 4,
 "nbformat_minor": 2
}
